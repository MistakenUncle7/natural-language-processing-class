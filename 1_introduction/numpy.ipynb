{
 "cells": [
  {
   "cell_type": "markdown",
   "id": "66818350",
   "metadata": {},
   "source": [
    "# What is NumPy?\n",
    "Is a powerful Python library for working with arrays and numerical data. It allows you to perform mathematical operations efficiently and is widely used in data science and machine learning."
   ]
  },
  {
   "cell_type": "markdown",
   "id": "5f398970",
   "metadata": {},
   "source": [
    "## Instalation\n",
    "```bash\n",
    "pip install numpy\n",
    "```"
   ]
  },
  {
   "cell_type": "code",
   "execution_count": 2,
   "id": "c895c3a1",
   "metadata": {},
   "outputs": [],
   "source": [
    "import numpy as np"
   ]
  },
  {
   "cell_type": "code",
   "execution_count": null,
   "id": "6aa1a07f",
   "metadata": {},
   "outputs": [],
   "source": [
    "names = [1, 2, 3, 4, 1.1, True, [], (), \"HOla\"]"
   ]
  },
  {
   "cell_type": "code",
   "execution_count": 5,
   "id": "f5494ca3",
   "metadata": {},
   "outputs": [],
   "source": [
    "np_array = np.asarray(names)"
   ]
  },
  {
   "cell_type": "code",
   "execution_count": 6,
   "id": "1a2d3f84",
   "metadata": {},
   "outputs": [
    {
     "data": {
      "text/plain": [
       "array(['Luis', 'Javier'], dtype='<U6')"
      ]
     },
     "execution_count": 6,
     "metadata": {},
     "output_type": "execute_result"
    }
   ],
   "source": [
    "np_array"
   ]
  },
  {
   "cell_type": "code",
   "execution_count": null,
   "id": "406b4e0f",
   "metadata": {},
   "outputs": [],
   "source": []
  }
 ],
 "metadata": {
  "kernelspec": {
   "display_name": "NLP25",
   "language": "python",
   "name": "python3"
  },
  "language_info": {
   "codemirror_mode": {
    "name": "ipython",
    "version": 3
   },
   "file_extension": ".py",
   "mimetype": "text/x-python",
   "name": "python",
   "nbconvert_exporter": "python",
   "pygments_lexer": "ipython3",
   "version": "3.13.1"
  }
 },
 "nbformat": 4,
 "nbformat_minor": 5
}
