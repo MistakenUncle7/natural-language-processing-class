{
 "cells": [
  {
   "cell_type": "markdown",
   "id": "1865eec2",
   "metadata": {},
   "source": [
    "# Show Output"
   ]
  },
  {
   "cell_type": "code",
   "execution_count": 1,
   "id": "a49c9591",
   "metadata": {},
   "outputs": [
    {
     "name": "stdout",
     "output_type": "stream",
     "text": [
      "Hola Mundo\n"
     ]
    }
   ],
   "source": [
    "# Show output\n",
    "print(\"Hola Mundo\")"
   ]
  },
  {
   "cell_type": "markdown",
   "id": "df1df615",
   "metadata": {},
   "source": [
    "# Data Types\n",
    "---"
   ]
  },
  {
   "cell_type": "markdown",
   "id": "a09ebdb4",
   "metadata": {},
   "source": [
    "### Inmutable types\n",
    "Objects that cannot be modified after they are created. Any \"change\" you make actually creates a **new object in memory**."
   ]
  },
  {
   "cell_type": "code",
   "execution_count": null,
   "id": "c4cc5c2e",
   "metadata": {},
   "outputs": [],
   "source": [
    "example_int = 1\n",
    "example_float = 2.1\n",
    "example_bool = True\n",
    "example_str = \"Hello\"\n",
    "example_tuple = (1, 2.1,  \"Hello\", True, (1, 1), [1, 2], {\"key\": \"value\"}, {\"apple\", \"banana\"}) # Accepts multiple data types: int, float, string, bool, tuple, list, tuple, dict, set"
   ]
  },
  {
   "cell_type": "code",
   "execution_count": null,
   "id": "6e7fdfe3",
   "metadata": {},
   "outputs": [
    {
     "name": "stdout",
     "output_type": "stream",
     "text": [
      "Variable Name: example_int | Output: 1 | Type:<class 'int'>\n",
      "Variable Name: example_list | Output: [1, 1.1, 'Hello', (1, 2), [1, 2], {'key': 'value'}, {'banana', 'apple'}] | Type:<class 'list'>\n",
      "Variable Name: example_bool | Output: True | Type:<class 'bool'>\n"
     ]
    }
   ],
   "source": [
    "# Output inmutables\n",
    "print(f\"Variable Name: example_int | Output: {example_int} | Type:{type(example_int)}\")\n",
    "print(f\"Variable Name: example_float | Output: {example_float} | Type:{type(example_float)}\")\n",
    "print(f\"Variable Name: example_bool | Output: {example_bool} | Type:{type(example_bool)}\")\n",
    "print(f\"Variable Name: example_str | Output: {example_str} | Type:{type(example_str)}\")\n",
    "print(f\"Variable Name: example_tuple | Output: {example_tuple} | Type:{type(example_tuple)}\")"
   ]
  },
  {
   "cell_type": "markdown",
   "id": "5bcac815",
   "metadata": {},
   "source": [
    "### Mutable types\n",
    "**Can be modified in place** without a new object in memory."
   ]
  },
  {
   "cell_type": "code",
   "execution_count": null,
   "id": "e46f652e",
   "metadata": {},
   "outputs": [],
   "source": [
    "example_list = [1, 2.1,  \"Hello\", True, (1, 1), [1, 2], {\"key\": \"value\"}, {\"apple\", \"banana\"}]\n",
    "example_dict = {\n",
    "    \"key\": \"value\",\n",
    "    1: (\"tuple\", \"values\"),\n",
    "    2: [\"list\", \"values\"],\n",
    "    3.1: {\"set\", \"values\"}\n",
    "}\n",
    "example_set = {1, 1.1,  \"Hello\", (1, 2), True} # It does't accepts list or dict types"
   ]
  },
  {
   "cell_type": "markdown",
   "id": "60e153f9",
   "metadata": {},
   "source": [
    "#### Convert from str to int"
   ]
  },
  {
   "cell_type": "code",
   "execution_count": 13,
   "id": "d093c82d",
   "metadata": {},
   "outputs": [],
   "source": [
    "str_num = \"100\"\n",
    "int_num = int(str_num)"
   ]
  },
  {
   "cell_type": "code",
   "execution_count": 14,
   "id": "04216da4",
   "metadata": {},
   "outputs": [
    {
     "name": "stdout",
     "output_type": "stream",
     "text": [
      "<class 'str'>\n",
      "<class 'int'>\n"
     ]
    }
   ],
   "source": [
    "print(type(str_num))\n",
    "print(type(int_num))"
   ]
  },
  {
   "cell_type": "markdown",
   "id": "54fbcb3f",
   "metadata": {},
   "source": [
    "## Lists"
   ]
  },
  {
   "cell_type": "code",
   "execution_count": 15,
   "id": "64d39476",
   "metadata": {},
   "outputs": [
    {
     "data": {
      "text/plain": [
       "list"
      ]
     },
     "execution_count": 15,
     "metadata": {},
     "output_type": "execute_result"
    }
   ],
   "source": [
    "example_list_2 = [] # Empty list\n",
    "type(example_list_2)"
   ]
  },
  {
   "cell_type": "code",
   "execution_count": 16,
   "id": "dd2a84d6",
   "metadata": {},
   "outputs": [
    {
     "data": {
      "text/plain": [
       "[1]"
      ]
     },
     "execution_count": 16,
     "metadata": {},
     "output_type": "execute_result"
    }
   ],
   "source": [
    "example_list_2.append(1) # Adds the element in the \n",
    "example_list_2"
   ]
  },
  {
   "cell_type": "code",
   "execution_count": null,
   "id": "f6d1ae0c",
   "metadata": {},
   "outputs": [],
   "source": []
  }
 ],
 "metadata": {
  "kernelspec": {
   "display_name": "NLP (3.12.10)",
   "language": "python",
   "name": "python3"
  },
  "language_info": {
   "codemirror_mode": {
    "name": "ipython",
    "version": 3
   },
   "file_extension": ".py",
   "mimetype": "text/x-python",
   "name": "python",
   "nbconvert_exporter": "python",
   "pygments_lexer": "ipython3",
   "version": "3.12.10"
  }
 },
 "nbformat": 4,
 "nbformat_minor": 5
}
