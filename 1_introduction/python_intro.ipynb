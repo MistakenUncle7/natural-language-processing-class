{
 "cells": [
  {
   "cell_type": "markdown",
   "id": "4bd20ed0",
   "metadata": {},
   "source": [
    "# Show Output"
   ]
  },
  {
   "cell_type": "code",
   "execution_count": null,
   "id": "231d66ce",
   "metadata": {},
   "outputs": [
    {
     "name": "stdout",
     "output_type": "stream",
     "text": [
      "Hola Mundo\n"
     ]
    }
   ],
   "source": [
    "print(\"Hola Mundo\")"
   ]
  },
  {
   "cell_type": "markdown",
   "id": "fbdfbfe5",
   "metadata": {},
   "source": [
    "# Data Types\n",
    "---"
   ]
  },
  {
   "cell_type": "markdown",
   "id": "0e10452d",
   "metadata": {},
   "source": [
    "### Immutable types\n",
    "Objects that cannot be modified after they are created. Any \"change\" you make actually creates a **new object in memory**."
   ]
  },
  {
   "cell_type": "code",
   "execution_count": null,
   "id": "58779f03",
   "metadata": {},
   "outputs": [],
   "source": [
    "example_int = 1\n",
    "example_float = 2.1\n",
    "example_bool = True\n",
    "example_str = \"Hello\"\n",
    "example_tuple = (1, 2.1,  \"Hello\", True, (1, 1), [1, 2], {\"key\": \"value\"}, {\"apple\", \"banana\"}) # Accepts multiple data types: int, float, string, bool, tuple, list, tuple, dict, set"
   ]
  },
  {
   "cell_type": "code",
   "execution_count": null,
   "id": "be6bc0dc",
   "metadata": {},
   "outputs": [
    {
     "name": "stdout",
     "output_type": "stream",
     "text": [
      "Variable Name: example_int | Output: 1 | Type:<class 'int'>\n",
      "Variable Name: example_float | Output: 2.1 | Type:<class 'float'>\n",
      "Variable Name: example_bool | Output: True | Type:<class 'bool'>\n",
      "Variable Name: example_str | Output: Hello | Type:<class 'str'>\n",
      "Variable Name: example_tuple | Output: (1, 2.1, 'Hello', True, (1, 1), [1, 2], {'key': 'value'}, {'apple', 'banana'}) | Type:<class 'tuple'>\n"
     ]
    }
   ],
   "source": [
    "# Output inmutables\n",
    "print(f\"Variable Name: example_int | Output: {example_int} | Type:{type(example_int)}\")\n",
    "print(f\"Variable Name: example_float | Output: {example_float} | Type:{type(example_float)}\")\n",
    "print(f\"Variable Name: example_bool | Output: {example_bool} | Type:{type(example_bool)}\")\n",
    "print(f\"Variable Name: example_str | Output: {example_str} | Type:{type(example_str)}\")\n",
    "print(f\"Variable Name: example_tuple | Output: {example_tuple} | Type:{type(example_tuple)}\")"
   ]
  },
  {
   "cell_type": "markdown",
   "id": "af68ae07",
   "metadata": {},
   "source": [
    "### Mutable types\n",
    "**Can be modified in place** without a new object in memory."
   ]
  },
  {
   "cell_type": "code",
   "execution_count": null,
   "id": "935dd937",
   "metadata": {},
   "outputs": [],
   "source": [
    "example_list = [1, 2.1,  \"Hello\", True, (1, 1), [1, 2], {\"key\": \"value\"}, {\"apple\", \"banana\"}]\n",
    "example_dict = { # It only accepts immutable types as keys\n",
    "    \"key\": \"value\",\n",
    "    1: (\"tuple\", \"values\"),\n",
    "    2.1: [\"list\", \"values\"],\n",
    "    (1, 2): {\"set\", \"values\"}\n",
    "}\n",
    "example_set = {1, 1.1,  \"Hello\", (1, 2), True} # Does't accepts mutable data types: list, dict, or set."
   ]
  },
  {
   "cell_type": "markdown",
   "id": "c8895881",
   "metadata": {},
   "source": [
    "#### Convert from str to int"
   ]
  },
  {
   "cell_type": "code",
   "execution_count": null,
   "id": "6bfeea4a",
   "metadata": {},
   "outputs": [],
   "source": [
    "str_num = \"100\"\n",
    "int_num = int(str_num)"
   ]
  },
  {
   "cell_type": "code",
   "execution_count": null,
   "id": "c4f22eef",
   "metadata": {},
   "outputs": [
    {
     "name": "stdout",
     "output_type": "stream",
     "text": [
      "<class 'str'>\n",
      "<class 'int'>\n"
     ]
    }
   ],
   "source": [
    "print(type(str_num))\n",
    "print(type(int_num))"
   ]
  },
  {
   "cell_type": "markdown",
   "id": "69f8cd2f",
   "metadata": {},
   "source": [
    "## Lists"
   ]
  },
  {
   "cell_type": "code",
   "execution_count": null,
   "id": "ae9c2d78",
   "metadata": {},
   "outputs": [
    {
     "data": {
      "text/plain": [
       "list"
      ]
     },
     "metadata": {},
     "output_type": "display_data"
    }
   ],
   "source": [
    "example_list_2 = [] # Empty list\n",
    "type(example_list_2)"
   ]
  },
  {
   "cell_type": "code",
   "execution_count": null,
   "id": "3f83a4bb",
   "metadata": {},
   "outputs": [
    {
     "data": {
      "text/plain": [
       "[1]"
      ]
     },
     "metadata": {},
     "output_type": "display_data"
    }
   ],
   "source": [
    "# .append() Onlyt takes one argument, the value to append\n",
    "example_list_2.append(1) # Appends the value to the last position of the list\n",
    "example_list_2"
   ]
  },
  {
   "cell_type": "code",
   "execution_count": null,
   "id": "2c92bfd3",
   "metadata": {},
   "outputs": [
    {
     "data": {
      "text/plain": [
       "[1, 3.14]"
      ]
     },
     "metadata": {},
     "output_type": "display_data"
    }
   ],
   "source": [
    "example_list_2.append(3.14) \n",
    "example_list_2"
   ]
  },
  {
   "cell_type": "code",
   "execution_count": null,
   "id": "23c5dd39",
   "metadata": {},
   "outputs": [
    {
     "data": {
      "text/plain": [
       "[1, 3.14, 'Hello']"
      ]
     },
     "metadata": {},
     "output_type": "display_data"
    }
   ],
   "source": [
    "example_list_2.append(\"Hello\")\n",
    "example_list_2"
   ]
  },
  {
   "cell_type": "code",
   "execution_count": null,
   "id": "42b29f01",
   "metadata": {},
   "outputs": [
    {
     "data": {
      "text/plain": [
       "[1, 3.14, 'Hello', True]"
      ]
     },
     "metadata": {},
     "output_type": "display_data"
    }
   ],
   "source": [
    "example_list_2.append(True)\n",
    "example_list_2"
   ]
  },
  {
   "cell_type": "code",
   "execution_count": null,
   "id": "a00fd9eb",
   "metadata": {},
   "outputs": [
    {
     "data": {
      "text/plain": [
       "[1, 3.14, 'Hello', True, []]"
      ]
     },
     "metadata": {},
     "output_type": "display_data"
    }
   ],
   "source": [
    "example_list_2.append([]) # All data types can be appended to a list\n",
    "example_list_2"
   ]
  },
  {
   "cell_type": "markdown",
   "id": "7dcec943",
   "metadata": {},
   "source": [
    "### Indexing\n",
    "Python is zero-indexed. This means the index values **starts at 0**."
   ]
  },
  {
   "cell_type": "code",
   "execution_count": null,
   "id": "567dce28",
   "metadata": {},
   "outputs": [
    {
     "data": {
      "text/plain": [
       "[1, 3.14, 'Hello', True, []]"
      ]
     },
     "metadata": {},
     "output_type": "display_data"
    }
   ],
   "source": [
    "example_list_2"
   ]
  },
  {
   "cell_type": "code",
   "execution_count": null,
   "id": "ad830534",
   "metadata": {},
   "outputs": [
    {
     "data": {
      "text/plain": [
       "'Hello'"
      ]
     },
     "metadata": {},
     "output_type": "display_data"
    }
   ],
   "source": [
    "example_list_2[2]"
   ]
  },
  {
   "cell_type": "markdown",
   "id": "c9c2f95c",
   "metadata": {},
   "source": [
    "### Slicing"
   ]
  },
  {
   "cell_type": "code",
   "execution_count": null,
   "id": "0a786456",
   "metadata": {},
   "outputs": [
    {
     "data": {
      "text/plain": [
       "[1, 3.14, 'Hello', True, []]"
      ]
     },
     "metadata": {},
     "output_type": "display_data"
    }
   ],
   "source": [
    "example_list_2"
   ]
  },
  {
   "cell_type": "code",
   "execution_count": null,
   "id": "177f002d",
   "metadata": {},
   "outputs": [
    {
     "data": {
      "text/plain": [
       "['Hello', True]"
      ]
     },
     "metadata": {},
     "output_type": "display_data"
    }
   ],
   "source": [
    "example_list_2[2:4]"
   ]
  },
  {
   "cell_type": "code",
   "execution_count": null,
   "id": "4c6dba9b",
   "metadata": {},
   "outputs": [
    {
     "data": {
      "text/plain": [
       "['Hello', True, []]"
      ]
     },
     "metadata": {},
     "output_type": "display_data"
    }
   ],
   "source": [
    "example_list_2[2:]"
   ]
  },
  {
   "cell_type": "code",
   "execution_count": null,
   "id": "bcb854b5",
   "metadata": {},
   "outputs": [
    {
     "data": {
      "text/plain": [
       "[1, 3.14, 'Hello']"
      ]
     },
     "metadata": {},
     "output_type": "display_data"
    }
   ],
   "source": [
    "example_list_2[:3]"
   ]
  }
 ],
 "metadata": {
  "language_info": {
   "name": "python"
  }
 },
 "nbformat": 4,
 "nbformat_minor": 5
}
